{
 "cells": [
  {
   "cell_type": "markdown",
   "metadata": {},
   "source": [
    "# Physical cat qubit simulation\n",
    "\n",
    "Physical Cat Qubit doesn't support a lot of gates, but they are interesting to simulate. The following circuit represents a basic \"bit flip\" operation, which is equivalent to a NOT gate. "
   ]
  },
  {
   "cell_type": "code",
   "execution_count": 23,
   "metadata": {},
   "outputs": [
    {
     "name": "stdout",
     "output_type": "stream",
     "text": [
      "Using Alice & Bob EMU:6Q:PHYSICAL_CATS backend with additional parameters...\n",
      "[0.01 0.99]\n"
     ]
    }
   ],
   "source": [
    "import pennylane as qml\n",
    "from pennylane import numpy as np\n",
    "\n",
    "# Create a device to execute the circuit on\n",
    "dev = qml.device(\"alicebob.qubit\", alice_backend=\"EMU:6Q:PHYSICAL_CATS\", wires=1, average_nb_photons=4,kappa_1=1e2, kappa_2=1e4, shots=1000)\n",
    "\n",
    "# Create a quantum circuit and qnode\n",
    "@qml.qnode(dev)\n",
    "def circuit():\n",
    "    qml.PauliX(wires=0)\n",
    "    return qml.probs()\n",
    "\n",
    "# Execute the circuit\n",
    "print(circuit())"
   ]
  },
  {
   "cell_type": "markdown",
   "metadata": {},
   "source": [
    "# Logical cat qubit (Early version)\n",
    "\n",
    "Logical cat qubit can handle more gates and multiple quantum algorithms can be implemented. It can be interesting to see the noise value and the result to some algorithms."
   ]
  },
  {
   "cell_type": "code",
   "execution_count": 2,
   "metadata": {},
   "outputs": [
    {
     "name": "stdout",
     "output_type": "stream",
     "text": [
      "Using alice & bob EMU:15Q:LOGICAL_EARLY backend...\n"
     ]
    },
    {
     "name": "stderr",
     "output_type": "stream",
     "text": [
      "c:\\workspace\\Anaconda\\envs\\test_ab\\Lib\\site-packages\\qiskit\\synthesis\\discrete_basis\\generate_basis_approximations.py:61: RuntimeWarning: The SolovayKitaev algorithm relies on scikit-learn's KDTree for a fast search over the basis approximations. Without this, we fallback onto a greedy search with is significantly slower. We highly suggest to install scikit-learn to use this feature.\n",
      "  warnings.warn(\n"
     ]
    },
    {
     "name": "stdout",
     "output_type": "stream",
     "text": [
      "[0.50097656 0.         0.         0.49902344]\n"
     ]
    }
   ],
   "source": [
    "import pennylane as qml\n",
    "from pennylane import numpy as np\n",
    "\n",
    "# Create a device to execute the circuit on\n",
    "dev = qml.device(\"alicebob.qubit\", alice_backend=\"EMU:15Q:LOGICAL_EARLY\", wires=2)\n",
    "\n",
    "# Create a quantum circuit and qnode\n",
    "@qml.qnode(dev)\n",
    "def circuit():\n",
    "    qml.Hadamard(wires=0)\n",
    "    qml.CNOT(wires=[0, 1])\n",
    "    return qml.probs()\n",
    "\n",
    "# Execute the circuit\n",
    "print(circuit())"
   ]
  },
  {
   "cell_type": "markdown",
   "metadata": {},
   "source": [
    "## Simple Quantum Algorithm\n",
    "\n",
    "To test the backend and its noise, we can implement a simple quantum algorithm. The selected algorithm is Grover's algorithm, which is a quantum search algorithm. It is a good choice because it is simple and can be implemented in a few qubits.\n"
   ]
  },
  {
   "cell_type": "code",
   "execution_count": 5,
   "metadata": {},
   "outputs": [
    {
     "name": "stdout",
     "output_type": "stream",
     "text": [
      "Using alice & bob EMU:15Q:LOGICAL_EARLY backend...\n"
     ]
    },
    {
     "data": {
      "image/png": "[encoded data removed]",
      "text/plain": [
       "<Figure size 640x480 with 1 Axes>"
      ]
     },
     "metadata": {},
     "output_type": "display_data"
    }
   ],
   "source": [
    "import pennylane as qml\n",
    "from pennylane import numpy as np\n",
    "import matplotlib.pyplot as plt\n",
    "\n",
    "# Defining the oracle and the GroverSearch function\n",
    "n_wires = 3\n",
    "wires = list(range(n_wires))\n",
    "\n",
    "def oracle():\n",
    "    qml.Hadamard(wires[-1])\n",
    "    qml.Toffoli(wires=wires)\n",
    "    qml.Hadamard(wires[-1])\n",
    "\n",
    "def GroverSearch(device, num_iterations=1):\n",
    "    dev = device\n",
    "    \n",
    "    @qml.qnode(dev)\n",
    "    def circuit():\n",
    "        for wire in wires:\n",
    "            qml.Hadamard(wire)\n",
    "\n",
    "        for _ in range(num_iterations):\n",
    "            oracle()\n",
    "            qml.templates.GroverOperator(wires=wires)\n",
    "        return qml.probs(wires)\n",
    "    \n",
    "    return circuit()\n",
    "\n",
    "# Devices\n",
    "alice_bob_dev = qml.device(\"alicebob.qubit\", alice_backend=\"EMU:15Q:LOGICAL_EARLY\", wires=3, average_nb_photons=4, kappa_2=1e4)\n",
    "default_dev = qml.device(\"default.qubit\", wires=3)\n",
    "\n",
    "# Getting results from both devices\n",
    "alicebob_results = GroverSearch(alice_bob_dev, num_iterations=2)\n",
    "default_results = GroverSearch(default_dev, num_iterations=2)\n",
    "\n",
    "# Generating bit strings for x-axis labels\n",
    "bit_strings = [f\"{x:0{n_wires}b}\" for x in range(2**n_wires)]\n",
    "\n",
    "# Plotting\n",
    "fig, ax = plt.subplots()\n",
    "bar_width = 0.35\n",
    "index = np.arange(len(alicebob_results))\n",
    "\n",
    "bar1 = ax.bar(index, alicebob_results, bar_width, label='AliceBob Simulator')\n",
    "bar2 = ax.bar(index + bar_width, default_results, bar_width, label='Default Qubit')\n",
    "\n",
    "ax.set_xlabel('Bit String')\n",
    "ax.set_ylabel('Probability')\n",
    "ax.set_title('Grover Search Comparisons')\n",
    "ax.set_xticks(index + bar_width / 2)\n",
    "ax.set_xticklabels(bit_strings)\n",
    "ax.legend()\n",
    "\n",
    "plt.show()"
   ]
  },
  {
   "cell_type": "markdown",
   "metadata": {},
   "source": [
    "Sources : \n",
    "- https://pennylane.ai/qml/demos/tutorial_grovers_algorithm/\n",
    "- https://docs.pennylane.ai/en/stable/code/api/pennylane.GroverOperator.html#pennylane.GroverOperator\n"
   ]
  }
 ],
 "metadata": {
  "kernelspec": {
   "display_name": "alice-bob",
   "language": "python",
   "name": "python3"
  },
  "language_info": {
   "codemirror_mode": {
    "name": "ipython",
    "version": 3
   },
   "file_extension": ".py",
   "mimetype": "text/x-python",
   "name": "python",
   "nbconvert_exporter": "python",
   "pygments_lexer": "ipython3",
   "version": "3.11.7"
  }
 },
 "nbformat": 4,
 "nbformat_minor": 2
}
